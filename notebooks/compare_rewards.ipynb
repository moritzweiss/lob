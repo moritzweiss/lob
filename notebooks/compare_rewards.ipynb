{
 "cells": [
  {
   "cell_type": "code",
   "execution_count": 9,
   "id": "6cdaf84f",
   "metadata": {},
   "outputs": [
    {
     "name": "stdout",
     "output_type": "stream",
     "text": [
      "Parent directory: /u/weim/lob\n"
     ]
    }
   ],
   "source": [
    "import numpy as np\n",
    "import matplotlib.pyplot as plt\n",
    "import seaborn as sns\n",
    "import pandas as pd\n",
    "from IPython.display import display\n",
    "import os\n",
    "parent_dir = os.path.abspath(os.path.join(os.getcwd(), os.pardir))\n",
    "print(f\"Parent directory: {parent_dir}\")"
   ]
  },
  {
   "cell_type": "code",
   "execution_count": null,
   "id": "475c8ecb",
   "metadata": {},
   "outputs": [
    {
     "name": "stdout",
     "output_type": "stream",
     "text": [
      "loading from /u/weim/lob/rewards/noise_20_episodes_10000_eval_seed_100_sl_agent.npz\n",
      "loading from /u/weim/lob/rewards/noise_20_episodes_10000_eval_seed_100_linear_sl_agent.npz\n",
      "loading from /u/weim/lob/rewards/noise_20_episodes_10000_eval_seed_100_log_normal.npz\n",
      "path doesnt exist: /u/weim/lob/rewards/noise_20_episodes_10000_eval_seed_100_log_normal.npz\n",
      "loading from /u/weim/lob/rewards/noise_20_seed_0_eval_seed_100_eval_episodes_10000_num_iterations_400_bsize_12800_log_normal_raw_rewards.npz\n",
      "loading from /u/weim/lob/rewards/noise_60_episodes_10000_eval_seed_100_sl_agent.npz\n",
      "loading from /u/weim/lob/rewards/noise_60_episodes_10000_eval_seed_100_linear_sl_agent.npz\n",
      "loading from /u/weim/lob/rewards/noise_60_episodes_10000_eval_seed_100_log_normal.npz\n",
      "path doesnt exist: /u/weim/lob/rewards/noise_60_episodes_10000_eval_seed_100_log_normal.npz\n",
      "loading from /u/weim/lob/rewards/noise_60_seed_0_eval_seed_100_eval_episodes_10000_num_iterations_400_bsize_12800_log_normal_raw_rewards.npz\n",
      "loading from /u/weim/lob/rewards/flow_20_episodes_10000_eval_seed_100_sl_agent.npz\n",
      "loading from /u/weim/lob/rewards/flow_20_episodes_10000_eval_seed_100_linear_sl_agent.npz\n",
      "loading from /u/weim/lob/rewards/flow_20_episodes_10000_eval_seed_100_log_normal.npz\n",
      "path doesnt exist: /u/weim/lob/rewards/flow_20_episodes_10000_eval_seed_100_log_normal.npz\n",
      "loading from /u/weim/lob/rewards/flow_20_seed_0_eval_seed_100_eval_episodes_10000_num_iterations_400_bsize_12800_log_normal_raw_rewards.npz\n",
      "loading from /u/weim/lob/rewards/flow_60_episodes_10000_eval_seed_100_sl_agent.npz\n",
      "loading from /u/weim/lob/rewards/flow_60_episodes_10000_eval_seed_100_linear_sl_agent.npz\n",
      "loading from /u/weim/lob/rewards/flow_60_episodes_10000_eval_seed_100_log_normal.npz\n",
      "path doesnt exist: /u/weim/lob/rewards/flow_60_episodes_10000_eval_seed_100_log_normal.npz\n",
      "loading from /u/weim/lob/rewards/flow_60_seed_0_eval_seed_100_eval_episodes_10000_num_iterations_400_bsize_12800_log_normal_raw_rewards.npz\n",
      "loading from /u/weim/lob/rewards/strategic_20_episodes_10000_eval_seed_100_sl_agent.npz\n",
      "loading from /u/weim/lob/rewards/strategic_20_episodes_10000_eval_seed_100_linear_sl_agent.npz\n",
      "loading from /u/weim/lob/rewards/strategic_20_episodes_10000_eval_seed_100_log_normal.npz\n",
      "path doesnt exist: /u/weim/lob/rewards/strategic_20_episodes_10000_eval_seed_100_log_normal.npz\n",
      "loading from /u/weim/lob/rewards/strategic_20_seed_0_eval_seed_100_eval_episodes_10000_num_iterations_400_bsize_12800_log_normal_raw_rewards.npz\n",
      "loading from /u/weim/lob/rewards/strategic_60_episodes_10000_eval_seed_100_sl_agent.npz\n",
      "loading from /u/weim/lob/rewards/strategic_60_episodes_10000_eval_seed_100_linear_sl_agent.npz\n",
      "loading from /u/weim/lob/rewards/strategic_60_episodes_10000_eval_seed_100_log_normal.npz\n",
      "path doesnt exist: /u/weim/lob/rewards/strategic_60_episodes_10000_eval_seed_100_log_normal.npz\n",
      "loading from /u/weim/lob/rewards/strategic_60_seed_0_eval_seed_100_eval_episodes_10000_num_iterations_400_bsize_12800_log_normal_raw_rewards.npz\n",
      "[-0.75 -0.2  -0.75 ... -1.05 -1.1  -1.4 ]\n"
     ]
    }
   ],
   "source": [
    "lots_list = [20,60]\n",
    "n_samples = 10000\n",
    "train_iter = 400\n",
    "\n",
    "folder_path = f\"{parent_dir}/rewards\"\n",
    "data = {}\n",
    "# agent_list = ['sl_agent', 'linear_sl_agent', 'log_normal', 'dirichlet']\n",
    "agent_list = ['sl_agent', 'linear_sl_agent', 'log_normal', 'log_normal_raw']\n",
    "for env in ['noise', 'flow', 'strategic']:\n",
    "    data[env] = {}\n",
    "    for lots in lots_list:\n",
    "        data[env][lots] = {}\n",
    "        for agent in agent_list:            \n",
    "            try: \n",
    "                if agent == 'log_normal':    \n",
    "                    name = f'{folder_path}/{env}_{lots}_seed_0_eval_seed_100_eval_episodes_{n_samples}_num_iterations_{train_iter}_bsize_12800_{agent}.npz'           \n",
    "                    name='/u/weim/lob/rewards/noise_20_seed_0_eval_seed_100_eval_episodes_10000_num_iterations_400_bsize_12800_log_normal.npz'\n",
    "                elif agent == 'log_normal_raw':\n",
    "                    name =  f'{folder_path}/{env}_{lots}_seed_0_eval_seed_100_eval_episodes_10000_num_iterations_{train_iter}_bsize_12800_{agent}_rewards.npz'\n",
    "                else:\n",
    "                    name = f'{folder_path}/{env}_{lots}_episodes_{10000}_eval_seed_100_{agent}.npz'\n",
    "                print(f'loading from {name}')\n",
    "                data[env][lots][agent] = np.load(name)['rewards']\n",
    "                if agent in ['log_normal_raw']:\n",
    "                    # normalize rewards \n",
    "                    initial_bid = 1000\n",
    "                    data[env][lots][agent] = data[env][lots][agent]/lots - initial_bid\n",
    "            except:\n",
    "                print(f\"path doesnt exist: {name}\")\n",
    "                data[env][lots][agent] = 'no data aviailable'\n",
    "\n",
    "print(data['noise'][20]['log_normal_raw'])"
   ]
  },
  {
   "cell_type": "code",
   "execution_count": 3,
   "id": "9322531f",
   "metadata": {},
   "outputs": [
    {
     "name": "stdout",
     "output_type": "stream",
     "text": [
      "no data available for noise, 20, log_normal_raw\n",
      "no data available for noise, 60, log_normal_raw\n",
      "no data available for flow, 20, log_normal_raw\n",
      "no data available for flow, 60, log_normal_raw\n",
      "no data available for strategic, 20, log_normal_raw\n",
      "no data available for strategic, 60, log_normal_raw\n",
      "              E[SL]  Std[SL]  E[TWAP]  Std[TWAP]  E[LN]  Std[LN]  E[LNR]  \\\n",
      "noise           NaN      NaN      NaN        NaN    NaN      NaN     NaN   \n",
      "noise_20       0.52     1.19    -0.06       0.94  -0.61     0.53     NaN   \n",
      "noise_60      -1.09     1.34    -1.40       0.98  -1.17     0.82     NaN   \n",
      "flow            NaN      NaN      NaN        NaN    NaN      NaN     NaN   \n",
      "flow_20        0.10     1.43     0.48       0.68  -0.29     0.39     NaN   \n",
      "flow_60       -3.36     0.99    -0.96       0.95  -1.02     0.45     NaN   \n",
      "strategic       NaN      NaN      NaN        NaN    NaN      NaN     NaN   \n",
      "strategic_20  -1.64     2.95    -0.36       3.03  -0.37     2.23     NaN   \n",
      "strategic_60  -2.51     3.67    -1.45       3.46  -1.69     3.14     NaN   \n",
      "\n",
      "              Std[LNR]  \n",
      "noise              NaN  \n",
      "noise_20           NaN  \n",
      "noise_60           NaN  \n",
      "flow               NaN  \n",
      "flow_20            NaN  \n",
      "flow_60            NaN  \n",
      "strategic          NaN  \n",
      "strategic_20       NaN  \n",
      "strategic_60       NaN  \n"
     ]
    }
   ],
   "source": [
    "folder_path = f\"{parent_dir}/latex_tables\"\n",
    "list_of_dfs = []\n",
    "# n_lots = [20, 60]\n",
    "# print(filler)\n",
    "for env in ['noise', 'flow', 'strategic']:\n",
    "    # filler = pd.DataFrame(np.nan*np.ones((1,6)), columns=['E[SL]', 'Std[SL]', 'E[TWAP]', 'Std[TWAP]', 'E[RL]', 'Std[RL]'], index=[f'{env}'])\n",
    "    filler = pd.DataFrame(np.nan*np.ones((1,8)), columns=['E[SL]', 'Std[SL]', 'E[TWAP]', 'Std[TWAP]', 'E[LN]', 'Std[LN]', 'E[LNR]', 'Std[LNR]'], index=[f'{env}'])\n",
    "    list_of_dfs.append(filler)\n",
    "    # print(f'{env}: ')\n",
    "    data_for_df = {}\n",
    "    # name_dict = {'sl_agent': 'SL', 'linear_sl_agent': 'TWAP', 'actor_critic': 'RL'}\n",
    "    name_dict = {'sl_agent': 'SL', 'linear_sl_agent': 'TWAP', 'log_normal': 'LN', 'log_normal_raw': 'LNR'}\n",
    "    agent_names = ['sl_agent', 'linear_sl_agent', 'log_normal', 'log_normal_raw']\n",
    "    for agent in agent_names:\n",
    "        name = name_dict[agent]\n",
    "        data_for_df[f'E[{name}]'] = []\n",
    "        data_for_df[f'Std[{name}]'] = []\n",
    "        for lots in lots_list:\n",
    "            try:\n",
    "                data_for_df[f'Std[{name}]'] += [np.std(data[env][lots][agent])]\n",
    "                data_for_df[f'E[{name}]'] += [np.mean(data[env][lots][agent])]                \n",
    "            except:\n",
    "                print(f\"no data available for {env}, {lots}, {agent}\")\n",
    "                data_for_df[f'Std[{name}]'] += [np.nan]\n",
    "                data_for_df[f'E[{name}]'] += [np.nan]\n",
    "    df = pd.DataFrame.from_dict(data_for_df).round(2)    \n",
    "    df.index.name = 'Lots'\n",
    "    index_name = [f'{env}_{l}' for l in lots_list]\n",
    "    df.index = index_name\n",
    "    df = df.round(2)\n",
    "    list_of_dfs.append(df)\n",
    "\n",
    "complete_df = pd.concat(list_of_dfs, axis=0)\n",
    "print(complete_df)\n",
    "latex_table = complete_df.to_latex(float_format=\"%.2f\")\n",
    "with open(f\"{folder_path}/results_table_latest_with_raw.tex\", \"w\") as f:\n",
    "    f.write(latex_table)"
   ]
  }
 ],
 "metadata": {
  "kernelspec": {
   "display_name": "lob",
   "language": "python",
   "name": "python3"
  },
  "language_info": {
   "codemirror_mode": {
    "name": "ipython",
    "version": 3
   },
   "file_extension": ".py",
   "mimetype": "text/x-python",
   "name": "python",
   "nbconvert_exporter": "python",
   "pygments_lexer": "ipython3",
   "version": "3.9.19"
  }
 },
 "nbformat": 4,
 "nbformat_minor": 5
}
